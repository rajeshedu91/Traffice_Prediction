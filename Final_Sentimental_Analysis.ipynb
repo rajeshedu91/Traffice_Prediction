{
 "cells": [
  {
   "cell_type": "code",
   "execution_count": 2,
   "metadata": {},
   "outputs": [],
   "source": [
    "import warnings\n",
    "warnings.filterwarnings('ignore')\n",
    "\n",
    "import os\n",
    "dir_Path = 'F:\\\\Final Thesis Paper'\n",
    "os.chdir(dir_Path)"
   ]
  },
  {
   "cell_type": "code",
   "execution_count": 3,
   "metadata": {},
   "outputs": [],
   "source": [
    "import pandas as pd \n",
    "\n",
    "Reviewdata = pd.read_csv('train_dataset.csv')"
   ]
  },
  {
   "cell_type": "code",
   "execution_count": 4,
   "metadata": {},
   "outputs": [
    {
     "data": {
      "text/plain": [
       "(164, 3)"
      ]
     },
     "execution_count": 4,
     "metadata": {},
     "output_type": "execute_result"
    }
   ],
   "source": [
    "Reviewdata.shape"
   ]
  },
  {
   "cell_type": "code",
   "execution_count": 5,
   "metadata": {
    "scrolled": true
   },
   "outputs": [
    {
     "data": {
      "text/html": [
       "<div>\n",
       "<style scoped>\n",
       "    .dataframe tbody tr th:only-of-type {\n",
       "        vertical-align: middle;\n",
       "    }\n",
       "\n",
       "    .dataframe tbody tr th {\n",
       "        vertical-align: top;\n",
       "    }\n",
       "\n",
       "    .dataframe thead th {\n",
       "        text-align: right;\n",
       "    }\n",
       "</style>\n",
       "<table border=\"1\" class=\"dataframe\">\n",
       "  <thead>\n",
       "    <tr style=\"text-align: right;\">\n",
       "      <th></th>\n",
       "      <th>Timestamp</th>\n",
       "      <th>Response</th>\n",
       "      <th>Comments</th>\n",
       "    </tr>\n",
       "  </thead>\n",
       "  <tbody>\n",
       "    <tr>\n",
       "      <th>0</th>\n",
       "      <td>1/25/2021 10:55:05</td>\n",
       "      <td>Positive</td>\n",
       "      <td>Flyover need for us but public not use is</td>\n",
       "    </tr>\n",
       "    <tr>\n",
       "      <th>1</th>\n",
       "      <td>1/25/2021 10:55:06</td>\n",
       "      <td>Positive</td>\n",
       "      <td>Flyover helps for ambulance.</td>\n",
       "    </tr>\n",
       "    <tr>\n",
       "      <th>2</th>\n",
       "      <td>1/25/2021 10:55:07</td>\n",
       "      <td>Positive</td>\n",
       "      <td>Local bus not use flyover. But private car use...</td>\n",
       "    </tr>\n",
       "    <tr>\n",
       "      <th>3</th>\n",
       "      <td>1/25/2021 10:55:08</td>\n",
       "      <td>Negative</td>\n",
       "      <td>Not use public it.</td>\n",
       "    </tr>\n",
       "    <tr>\n",
       "      <th>4</th>\n",
       "      <td>1/25/2021 10:55:09</td>\n",
       "      <td>Negative</td>\n",
       "      <td>Rickshaw can not use it.</td>\n",
       "    </tr>\n",
       "  </tbody>\n",
       "</table>\n",
       "</div>"
      ],
      "text/plain": [
       "            Timestamp  Response  \\\n",
       "0  1/25/2021 10:55:05  Positive   \n",
       "1  1/25/2021 10:55:06  Positive   \n",
       "2  1/25/2021 10:55:07  Positive   \n",
       "3  1/25/2021 10:55:08  Negative   \n",
       "4  1/25/2021 10:55:09  Negative   \n",
       "\n",
       "                                            Comments  \n",
       "0          Flyover need for us but public not use is  \n",
       "1                       Flyover helps for ambulance.  \n",
       "2  Local bus not use flyover. But private car use...  \n",
       "3                                 Not use public it.  \n",
       "4                           Rickshaw can not use it.  "
      ]
     },
     "execution_count": 5,
     "metadata": {},
     "output_type": "execute_result"
    }
   ],
   "source": [
    "Reviewdata.head()"
   ]
  },
  {
   "cell_type": "code",
   "execution_count": 6,
   "metadata": {},
   "outputs": [
    {
     "name": "stdout",
     "output_type": "stream",
     "text": [
      "<class 'pandas.core.frame.DataFrame'>\n",
      "RangeIndex: 164 entries, 0 to 163\n",
      "Data columns (total 3 columns):\n",
      " #   Column     Non-Null Count  Dtype \n",
      "---  ------     --------------  ----- \n",
      " 0   Timestamp  23 non-null     object\n",
      " 1   Response   164 non-null    object\n",
      " 2   Comments   164 non-null    object\n",
      "dtypes: object(3)\n",
      "memory usage: 4.0+ KB\n"
     ]
    }
   ],
   "source": [
    "Reviewdata.info()"
   ]
  },
  {
   "cell_type": "code",
   "execution_count": 7,
   "metadata": {},
   "outputs": [
    {
     "data": {
      "text/html": [
       "<div>\n",
       "<style scoped>\n",
       "    .dataframe tbody tr th:only-of-type {\n",
       "        vertical-align: middle;\n",
       "    }\n",
       "\n",
       "    .dataframe tbody tr th {\n",
       "        vertical-align: top;\n",
       "    }\n",
       "\n",
       "    .dataframe thead th {\n",
       "        text-align: right;\n",
       "    }\n",
       "</style>\n",
       "<table border=\"1\" class=\"dataframe\">\n",
       "  <thead>\n",
       "    <tr style=\"text-align: right;\">\n",
       "      <th></th>\n",
       "      <th>count</th>\n",
       "      <th>unique</th>\n",
       "      <th>top</th>\n",
       "      <th>freq</th>\n",
       "    </tr>\n",
       "  </thead>\n",
       "  <tbody>\n",
       "    <tr>\n",
       "      <th>Timestamp</th>\n",
       "      <td>23</td>\n",
       "      <td>23</td>\n",
       "      <td>1/29/2021 9:12:24</td>\n",
       "      <td>1</td>\n",
       "    </tr>\n",
       "    <tr>\n",
       "      <th>Response</th>\n",
       "      <td>164</td>\n",
       "      <td>2</td>\n",
       "      <td>Negative</td>\n",
       "      <td>87</td>\n",
       "    </tr>\n",
       "    <tr>\n",
       "      <th>Comments</th>\n",
       "      <td>164</td>\n",
       "      <td>23</td>\n",
       "      <td>Does not use local bus, Tempo, Laguna flyover.</td>\n",
       "      <td>10</td>\n",
       "    </tr>\n",
       "  </tbody>\n",
       "</table>\n",
       "</div>"
      ],
      "text/plain": [
       "          count unique                                              top freq\n",
       "Timestamp    23     23                                1/29/2021 9:12:24    1\n",
       "Response    164      2                                         Negative   87\n",
       "Comments    164     23  Does not use local bus, Tempo, Laguna flyover.    10"
      ]
     },
     "execution_count": 7,
     "metadata": {},
     "output_type": "execute_result"
    }
   ],
   "source": [
    "Reviewdata.describe().transpose()"
   ]
  },
  {
   "cell_type": "code",
   "execution_count": 8,
   "metadata": {},
   "outputs": [
    {
     "name": "stdout",
     "output_type": "stream",
     "text": [
      "Count and percentage of missing values for the columns:\n"
     ]
    },
    {
     "data": {
      "text/html": [
       "<div>\n",
       "<style scoped>\n",
       "    .dataframe tbody tr th:only-of-type {\n",
       "        vertical-align: middle;\n",
       "    }\n",
       "\n",
       "    .dataframe tbody tr th {\n",
       "        vertical-align: top;\n",
       "    }\n",
       "\n",
       "    .dataframe thead th {\n",
       "        text-align: right;\n",
       "    }\n",
       "</style>\n",
       "<table border=\"1\" class=\"dataframe\">\n",
       "  <thead>\n",
       "    <tr style=\"text-align: right;\">\n",
       "      <th></th>\n",
       "      <th>Count</th>\n",
       "      <th>Percentage</th>\n",
       "    </tr>\n",
       "  </thead>\n",
       "  <tbody>\n",
       "    <tr>\n",
       "      <th>Timestamp</th>\n",
       "      <td>141</td>\n",
       "      <td>85.97561</td>\n",
       "    </tr>\n",
       "    <tr>\n",
       "      <th>Comments</th>\n",
       "      <td>0</td>\n",
       "      <td>0.00000</td>\n",
       "    </tr>\n",
       "    <tr>\n",
       "      <th>Response</th>\n",
       "      <td>0</td>\n",
       "      <td>0.00000</td>\n",
       "    </tr>\n",
       "  </tbody>\n",
       "</table>\n",
       "</div>"
      ],
      "text/plain": [
       "           Count  Percentage\n",
       "Timestamp    141    85.97561\n",
       "Comments       0     0.00000\n",
       "Response       0     0.00000"
      ]
     },
     "execution_count": 8,
     "metadata": {},
     "output_type": "execute_result"
    }
   ],
   "source": [
    "count = Reviewdata.isnull().sum().sort_values(ascending=False)\n",
    "percentage = ((Reviewdata.isnull().sum()/len(Reviewdata)*100)).sort_values(ascending=False)\n",
    "missing_data = pd.concat([count, percentage], axis=1,\n",
    "keys=['Count','Percentage'])\n",
    "\n",
    "print('Count and percentage of missing values for the columns:')\n",
    "\n",
    "missing_data"
   ]
  },
  {
   "cell_type": "code",
   "execution_count": 9,
   "metadata": {},
   "outputs": [
    {
     "name": "stdout",
     "output_type": "stream",
     "text": [
      "Percentage for default\n",
      "\n",
      "Negative    53.05\n",
      "Positive    46.95\n",
      "Name: Response, dtype: float64\n"
     ]
    },
    {
     "data": {
      "image/png": "[encoded data removed]",
      "text/plain": [
       "<Figure size 432x288 with 1 Axes>"
      ]
     },
     "metadata": {
      "needs_background": "light"
     },
     "output_type": "display_data"
    }
   ],
   "source": [
    "\n",
    "import matplotlib.pyplot as plt\n",
    "%matplotlib inline\n",
    "print('Percentage for default\\n')\n",
    "print(round(Reviewdata.Response.value_counts(normalize=True)*100,2))\n",
    "round(Reviewdata.Response.value_counts(normalize=True)*100,2).plot(kind='bar')\n",
    "plt.title('Percentage Distributions by review type')\n",
    "plt.show()"
   ]
  },
  {
   "cell_type": "code",
   "execution_count": 11,
   "metadata": {},
   "outputs": [],
   "source": [
    "\n",
    "#import matplotlib.pyplot as plt\n",
    "#%matplotlib inline\n",
    "#print('Percentage for default\\n')\n",
    "#print(round(Reviewdata.Traffic_Hour.value_counts(normalize=True)*100,2))\n",
    "#round(Reviewdata.Traffic_Hour.value_counts(normalize=True)*100,2).plot(kind='bar')\n",
    "#plt.title('Percentage Distributions by review type')\n",
    "#plt.show()"
   ]
  },
  {
   "cell_type": "code",
   "execution_count": 12,
   "metadata": {},
   "outputs": [],
   "source": [
    "\n",
    "Reviewdata.drop(columns = ['Timestamp'], inplace = True)"
   ]
  },
  {
   "cell_type": "code",
   "execution_count": 13,
   "metadata": {},
   "outputs": [
    {
     "data": {
      "text/html": [
       "<div>\n",
       "<style scoped>\n",
       "    .dataframe tbody tr th:only-of-type {\n",
       "        vertical-align: middle;\n",
       "    }\n",
       "\n",
       "    .dataframe tbody tr th {\n",
       "        vertical-align: top;\n",
       "    }\n",
       "\n",
       "    .dataframe thead th {\n",
       "        text-align: right;\n",
       "    }\n",
       "</style>\n",
       "<table border=\"1\" class=\"dataframe\">\n",
       "  <thead>\n",
       "    <tr style=\"text-align: right;\">\n",
       "      <th></th>\n",
       "      <th>Response</th>\n",
       "      <th>Comments</th>\n",
       "    </tr>\n",
       "  </thead>\n",
       "  <tbody>\n",
       "    <tr>\n",
       "      <th>0</th>\n",
       "      <td>Positive</td>\n",
       "      <td>Flyover need for us but public not use is</td>\n",
       "    </tr>\n",
       "    <tr>\n",
       "      <th>1</th>\n",
       "      <td>Positive</td>\n",
       "      <td>Flyover helps for ambulance.</td>\n",
       "    </tr>\n",
       "    <tr>\n",
       "      <th>2</th>\n",
       "      <td>Positive</td>\n",
       "      <td>Local bus not use flyover. But private car use...</td>\n",
       "    </tr>\n",
       "    <tr>\n",
       "      <th>3</th>\n",
       "      <td>Negative</td>\n",
       "      <td>Not use public it.</td>\n",
       "    </tr>\n",
       "    <tr>\n",
       "      <th>4</th>\n",
       "      <td>Negative</td>\n",
       "      <td>Rickshaw can not use it.</td>\n",
       "    </tr>\n",
       "    <tr>\n",
       "      <th>5</th>\n",
       "      <td>Negative</td>\n",
       "      <td>Bus Tempo does not use these flyovers. Can't p...</td>\n",
       "    </tr>\n",
       "    <tr>\n",
       "      <th>6</th>\n",
       "      <td>Positive</td>\n",
       "      <td>It will reduce traffic.</td>\n",
       "    </tr>\n",
       "    <tr>\n",
       "      <th>7</th>\n",
       "      <td>Positive</td>\n",
       "      <td>Flyover can decress traffic if we use it.</td>\n",
       "    </tr>\n",
       "    <tr>\n",
       "      <th>8</th>\n",
       "      <td>Positive</td>\n",
       "      <td>It helps for motorcyle, CNG, Car and Microbus.</td>\n",
       "    </tr>\n",
       "    <tr>\n",
       "      <th>9</th>\n",
       "      <td>Negative</td>\n",
       "      <td>Flyover not reduct traffice jam</td>\n",
       "    </tr>\n",
       "  </tbody>\n",
       "</table>\n",
       "</div>"
      ],
      "text/plain": [
       "   Response                                           Comments\n",
       "0  Positive          Flyover need for us but public not use is\n",
       "1  Positive                       Flyover helps for ambulance.\n",
       "2  Positive  Local bus not use flyover. But private car use...\n",
       "3  Negative                                 Not use public it.\n",
       "4  Negative                           Rickshaw can not use it.\n",
       "5  Negative  Bus Tempo does not use these flyovers. Can't p...\n",
       "6  Positive                            It will reduce traffic.\n",
       "7  Positive          Flyover can decress traffic if we use it.\n",
       "8  Positive     It helps for motorcyle, CNG, Car and Microbus.\n",
       "9  Negative                    Flyover not reduct traffice jam"
      ]
     },
     "execution_count": 13,
     "metadata": {},
     "output_type": "execute_result"
    }
   ],
   "source": [
    "\n",
    "import re\n",
    "import string\n",
    "\n",
    "\n",
    "def text_clean_1(text):\n",
    "    text = text.lower()\n",
    "    text = re.sub('\\[.*?\\]', '', text)\n",
    "    text = re.sub('[%s]' % re.escape(string.punctuation), '', text)\n",
    "    text = re.sub('\\w*\\d\\w*', '', text)\n",
    "    return text\n",
    "\n",
    "cleaned1 = lambda x: text_clean_1(x)\n",
    "Reviewdata.head(10)"
   ]
  },
  {
   "cell_type": "code",
   "execution_count": 14,
   "metadata": {},
   "outputs": [
    {
     "data": {
      "text/html": [
       "<div>\n",
       "<style scoped>\n",
       "    .dataframe tbody tr th:only-of-type {\n",
       "        vertical-align: middle;\n",
       "    }\n",
       "\n",
       "    .dataframe tbody tr th {\n",
       "        vertical-align: top;\n",
       "    }\n",
       "\n",
       "    .dataframe thead th {\n",
       "        text-align: right;\n",
       "    }\n",
       "</style>\n",
       "<table border=\"1\" class=\"dataframe\">\n",
       "  <thead>\n",
       "    <tr style=\"text-align: right;\">\n",
       "      <th></th>\n",
       "      <th>Response</th>\n",
       "      <th>Comments</th>\n",
       "      <th>cleaned_comments</th>\n",
       "    </tr>\n",
       "  </thead>\n",
       "  <tbody>\n",
       "    <tr>\n",
       "      <th>0</th>\n",
       "      <td>Positive</td>\n",
       "      <td>Flyover need for us but public not use is</td>\n",
       "      <td>flyover need for us but public not use is</td>\n",
       "    </tr>\n",
       "    <tr>\n",
       "      <th>1</th>\n",
       "      <td>Positive</td>\n",
       "      <td>Flyover helps for ambulance.</td>\n",
       "      <td>flyover helps for ambulance</td>\n",
       "    </tr>\n",
       "    <tr>\n",
       "      <th>2</th>\n",
       "      <td>Positive</td>\n",
       "      <td>Local bus not use flyover. But private car use...</td>\n",
       "      <td>local bus not use flyover but private car use it</td>\n",
       "    </tr>\n",
       "    <tr>\n",
       "      <th>3</th>\n",
       "      <td>Negative</td>\n",
       "      <td>Not use public it.</td>\n",
       "      <td>not use public it</td>\n",
       "    </tr>\n",
       "    <tr>\n",
       "      <th>4</th>\n",
       "      <td>Negative</td>\n",
       "      <td>Rickshaw can not use it.</td>\n",
       "      <td>rickshaw can not use it</td>\n",
       "    </tr>\n",
       "    <tr>\n",
       "      <th>5</th>\n",
       "      <td>Negative</td>\n",
       "      <td>Bus Tempo does not use these flyovers. Can't p...</td>\n",
       "      <td>bus tempo does not use these flyovers cant pic...</td>\n",
       "    </tr>\n",
       "    <tr>\n",
       "      <th>6</th>\n",
       "      <td>Positive</td>\n",
       "      <td>It will reduce traffic.</td>\n",
       "      <td>it will reduce traffic</td>\n",
       "    </tr>\n",
       "    <tr>\n",
       "      <th>7</th>\n",
       "      <td>Positive</td>\n",
       "      <td>Flyover can decress traffic if we use it.</td>\n",
       "      <td>flyover can decress traffic if we use it</td>\n",
       "    </tr>\n",
       "    <tr>\n",
       "      <th>8</th>\n",
       "      <td>Positive</td>\n",
       "      <td>It helps for motorcyle, CNG, Car and Microbus.</td>\n",
       "      <td>it helps for motorcyle cng car and microbus</td>\n",
       "    </tr>\n",
       "    <tr>\n",
       "      <th>9</th>\n",
       "      <td>Negative</td>\n",
       "      <td>Flyover not reduct traffice jam</td>\n",
       "      <td>flyover not reduct traffice jam</td>\n",
       "    </tr>\n",
       "  </tbody>\n",
       "</table>\n",
       "</div>"
      ],
      "text/plain": [
       "   Response                                           Comments  \\\n",
       "0  Positive          Flyover need for us but public not use is   \n",
       "1  Positive                       Flyover helps for ambulance.   \n",
       "2  Positive  Local bus not use flyover. But private car use...   \n",
       "3  Negative                                 Not use public it.   \n",
       "4  Negative                           Rickshaw can not use it.   \n",
       "5  Negative  Bus Tempo does not use these flyovers. Can't p...   \n",
       "6  Positive                            It will reduce traffic.   \n",
       "7  Positive          Flyover can decress traffic if we use it.   \n",
       "8  Positive     It helps for motorcyle, CNG, Car and Microbus.   \n",
       "9  Negative                    Flyover not reduct traffice jam   \n",
       "\n",
       "                                    cleaned_comments  \n",
       "0          flyover need for us but public not use is  \n",
       "1                        flyover helps for ambulance  \n",
       "2  local bus not use flyover but private car use it   \n",
       "3                                  not use public it  \n",
       "4                            rickshaw can not use it  \n",
       "5  bus tempo does not use these flyovers cant pic...  \n",
       "6                             it will reduce traffic  \n",
       "7           flyover can decress traffic if we use it  \n",
       "8        it helps for motorcyle cng car and microbus  \n",
       "9                    flyover not reduct traffice jam  "
      ]
     },
     "execution_count": 14,
     "metadata": {},
     "output_type": "execute_result"
    }
   ],
   "source": [
    "\n",
    "Reviewdata['cleaned_comments'] = pd.DataFrame(Reviewdata.Comments.apply(cleaned1))\n",
    "Reviewdata.head(10)"
   ]
  },
  {
   "cell_type": "code",
   "execution_count": 15,
   "metadata": {},
   "outputs": [
    {
     "data": {
      "text/html": [
       "<div>\n",
       "<style scoped>\n",
       "    .dataframe tbody tr th:only-of-type {\n",
       "        vertical-align: middle;\n",
       "    }\n",
       "\n",
       "    .dataframe tbody tr th {\n",
       "        vertical-align: top;\n",
       "    }\n",
       "\n",
       "    .dataframe thead th {\n",
       "        text-align: right;\n",
       "    }\n",
       "</style>\n",
       "<table border=\"1\" class=\"dataframe\">\n",
       "  <thead>\n",
       "    <tr style=\"text-align: right;\">\n",
       "      <th></th>\n",
       "      <th>Response</th>\n",
       "      <th>Comments</th>\n",
       "      <th>cleaned_comments</th>\n",
       "    </tr>\n",
       "  </thead>\n",
       "  <tbody>\n",
       "    <tr>\n",
       "      <th>0</th>\n",
       "      <td>Positive</td>\n",
       "      <td>Flyover need for us but public not use is</td>\n",
       "      <td>flyover need for us but public not use is</td>\n",
       "    </tr>\n",
       "    <tr>\n",
       "      <th>1</th>\n",
       "      <td>Positive</td>\n",
       "      <td>Flyover helps for ambulance.</td>\n",
       "      <td>flyover helps for ambulance</td>\n",
       "    </tr>\n",
       "    <tr>\n",
       "      <th>2</th>\n",
       "      <td>Positive</td>\n",
       "      <td>Local bus not use flyover. But private car use...</td>\n",
       "      <td>local bus not use flyover but private car use it</td>\n",
       "    </tr>\n",
       "    <tr>\n",
       "      <th>3</th>\n",
       "      <td>Negative</td>\n",
       "      <td>Not use public it.</td>\n",
       "      <td>not use public it</td>\n",
       "    </tr>\n",
       "    <tr>\n",
       "      <th>4</th>\n",
       "      <td>Negative</td>\n",
       "      <td>Rickshaw can not use it.</td>\n",
       "      <td>rickshaw can not use it</td>\n",
       "    </tr>\n",
       "    <tr>\n",
       "      <th>5</th>\n",
       "      <td>Negative</td>\n",
       "      <td>Bus Tempo does not use these flyovers. Can't p...</td>\n",
       "      <td>bus tempo does not use these flyovers cant pic...</td>\n",
       "    </tr>\n",
       "    <tr>\n",
       "      <th>6</th>\n",
       "      <td>Positive</td>\n",
       "      <td>It will reduce traffic.</td>\n",
       "      <td>it will reduce traffic</td>\n",
       "    </tr>\n",
       "    <tr>\n",
       "      <th>7</th>\n",
       "      <td>Positive</td>\n",
       "      <td>Flyover can decress traffic if we use it.</td>\n",
       "      <td>flyover can decress traffic if we use it</td>\n",
       "    </tr>\n",
       "    <tr>\n",
       "      <th>8</th>\n",
       "      <td>Positive</td>\n",
       "      <td>It helps for motorcyle, CNG, Car and Microbus.</td>\n",
       "      <td>it helps for motorcyle cng car and microbus</td>\n",
       "    </tr>\n",
       "    <tr>\n",
       "      <th>9</th>\n",
       "      <td>Negative</td>\n",
       "      <td>Flyover not reduct traffice jam</td>\n",
       "      <td>flyover not reduct traffice jam</td>\n",
       "    </tr>\n",
       "  </tbody>\n",
       "</table>\n",
       "</div>"
      ],
      "text/plain": [
       "   Response                                           Comments  \\\n",
       "0  Positive          Flyover need for us but public not use is   \n",
       "1  Positive                       Flyover helps for ambulance.   \n",
       "2  Positive  Local bus not use flyover. But private car use...   \n",
       "3  Negative                                 Not use public it.   \n",
       "4  Negative                           Rickshaw can not use it.   \n",
       "5  Negative  Bus Tempo does not use these flyovers. Can't p...   \n",
       "6  Positive                            It will reduce traffic.   \n",
       "7  Positive          Flyover can decress traffic if we use it.   \n",
       "8  Positive     It helps for motorcyle, CNG, Car and Microbus.   \n",
       "9  Negative                    Flyover not reduct traffice jam   \n",
       "\n",
       "                                    cleaned_comments  \n",
       "0          flyover need for us but public not use is  \n",
       "1                        flyover helps for ambulance  \n",
       "2  local bus not use flyover but private car use it   \n",
       "3                                  not use public it  \n",
       "4                            rickshaw can not use it  \n",
       "5  bus tempo does not use these flyovers cant pic...  \n",
       "6                             it will reduce traffic  \n",
       "7           flyover can decress traffic if we use it  \n",
       "8        it helps for motorcyle cng car and microbus  \n",
       "9                    flyover not reduct traffice jam  "
      ]
     },
     "execution_count": 15,
     "metadata": {},
     "output_type": "execute_result"
    }
   ],
   "source": [
    "# Apply a second round of cleaning\n",
    "def text_clean_2(text):\n",
    "    text = re.sub('[‘’“”…]', '', text)\n",
    "    text = re.sub('\\n', '', text)\n",
    "    return text\n",
    "\n",
    "cleaned2 = lambda x: text_clean_2(x)\n",
    "Reviewdata.head(10)"
   ]
  },
  {
   "cell_type": "code",
   "execution_count": 16,
   "metadata": {
    "scrolled": true
   },
   "outputs": [
    {
     "data": {
      "text/html": [
       "<div>\n",
       "<style scoped>\n",
       "    .dataframe tbody tr th:only-of-type {\n",
       "        vertical-align: middle;\n",
       "    }\n",
       "\n",
       "    .dataframe tbody tr th {\n",
       "        vertical-align: top;\n",
       "    }\n",
       "\n",
       "    .dataframe thead th {\n",
       "        text-align: right;\n",
       "    }\n",
       "</style>\n",
       "<table border=\"1\" class=\"dataframe\">\n",
       "  <thead>\n",
       "    <tr style=\"text-align: right;\">\n",
       "      <th></th>\n",
       "      <th>Response</th>\n",
       "      <th>Comments</th>\n",
       "      <th>cleaned_comments</th>\n",
       "      <th>cleaned_comments_new</th>\n",
       "    </tr>\n",
       "  </thead>\n",
       "  <tbody>\n",
       "    <tr>\n",
       "      <th>0</th>\n",
       "      <td>Positive</td>\n",
       "      <td>Flyover need for us but public not use is</td>\n",
       "      <td>flyover need for us but public not use is</td>\n",
       "      <td>flyover need for us but public not use is</td>\n",
       "    </tr>\n",
       "    <tr>\n",
       "      <th>1</th>\n",
       "      <td>Positive</td>\n",
       "      <td>Flyover helps for ambulance.</td>\n",
       "      <td>flyover helps for ambulance</td>\n",
       "      <td>flyover helps for ambulance</td>\n",
       "    </tr>\n",
       "    <tr>\n",
       "      <th>2</th>\n",
       "      <td>Positive</td>\n",
       "      <td>Local bus not use flyover. But private car use...</td>\n",
       "      <td>local bus not use flyover but private car use it</td>\n",
       "      <td>local bus not use flyover but private car use it</td>\n",
       "    </tr>\n",
       "    <tr>\n",
       "      <th>3</th>\n",
       "      <td>Negative</td>\n",
       "      <td>Not use public it.</td>\n",
       "      <td>not use public it</td>\n",
       "      <td>not use public it</td>\n",
       "    </tr>\n",
       "    <tr>\n",
       "      <th>4</th>\n",
       "      <td>Negative</td>\n",
       "      <td>Rickshaw can not use it.</td>\n",
       "      <td>rickshaw can not use it</td>\n",
       "      <td>rickshaw can not use it</td>\n",
       "    </tr>\n",
       "    <tr>\n",
       "      <th>5</th>\n",
       "      <td>Negative</td>\n",
       "      <td>Bus Tempo does not use these flyovers. Can't p...</td>\n",
       "      <td>bus tempo does not use these flyovers cant pic...</td>\n",
       "      <td>bus tempo does not use these flyovers cant pic...</td>\n",
       "    </tr>\n",
       "    <tr>\n",
       "      <th>6</th>\n",
       "      <td>Positive</td>\n",
       "      <td>It will reduce traffic.</td>\n",
       "      <td>it will reduce traffic</td>\n",
       "      <td>it will reduce traffic</td>\n",
       "    </tr>\n",
       "    <tr>\n",
       "      <th>7</th>\n",
       "      <td>Positive</td>\n",
       "      <td>Flyover can decress traffic if we use it.</td>\n",
       "      <td>flyover can decress traffic if we use it</td>\n",
       "      <td>flyover can decress traffic if we use it</td>\n",
       "    </tr>\n",
       "    <tr>\n",
       "      <th>8</th>\n",
       "      <td>Positive</td>\n",
       "      <td>It helps for motorcyle, CNG, Car and Microbus.</td>\n",
       "      <td>it helps for motorcyle cng car and microbus</td>\n",
       "      <td>it helps for motorcyle cng car and microbus</td>\n",
       "    </tr>\n",
       "    <tr>\n",
       "      <th>9</th>\n",
       "      <td>Negative</td>\n",
       "      <td>Flyover not reduct traffice jam</td>\n",
       "      <td>flyover not reduct traffice jam</td>\n",
       "      <td>flyover not reduct traffice jam</td>\n",
       "    </tr>\n",
       "  </tbody>\n",
       "</table>\n",
       "</div>"
      ],
      "text/plain": [
       "   Response                                           Comments  \\\n",
       "0  Positive          Flyover need for us but public not use is   \n",
       "1  Positive                       Flyover helps for ambulance.   \n",
       "2  Positive  Local bus not use flyover. But private car use...   \n",
       "3  Negative                                 Not use public it.   \n",
       "4  Negative                           Rickshaw can not use it.   \n",
       "5  Negative  Bus Tempo does not use these flyovers. Can't p...   \n",
       "6  Positive                            It will reduce traffic.   \n",
       "7  Positive          Flyover can decress traffic if we use it.   \n",
       "8  Positive     It helps for motorcyle, CNG, Car and Microbus.   \n",
       "9  Negative                    Flyover not reduct traffice jam   \n",
       "\n",
       "                                    cleaned_comments  \\\n",
       "0          flyover need for us but public not use is   \n",
       "1                        flyover helps for ambulance   \n",
       "2  local bus not use flyover but private car use it    \n",
       "3                                  not use public it   \n",
       "4                            rickshaw can not use it   \n",
       "5  bus tempo does not use these flyovers cant pic...   \n",
       "6                             it will reduce traffic   \n",
       "7           flyover can decress traffic if we use it   \n",
       "8        it helps for motorcyle cng car and microbus   \n",
       "9                    flyover not reduct traffice jam   \n",
       "\n",
       "                                cleaned_comments_new  \n",
       "0          flyover need for us but public not use is  \n",
       "1                        flyover helps for ambulance  \n",
       "2  local bus not use flyover but private car use it   \n",
       "3                                  not use public it  \n",
       "4                            rickshaw can not use it  \n",
       "5  bus tempo does not use these flyovers cant pic...  \n",
       "6                             it will reduce traffic  \n",
       "7           flyover can decress traffic if we use it  \n",
       "8        it helps for motorcyle cng car and microbus  \n",
       "9                    flyover not reduct traffice jam  "
      ]
     },
     "execution_count": 16,
     "metadata": {},
     "output_type": "execute_result"
    }
   ],
   "source": [
    "# Let's take a look at the updated text\n",
    "Reviewdata['cleaned_comments_new'] = pd.DataFrame(Reviewdata['cleaned_comments'].apply(cleaned2))\n",
    "Reviewdata.head(10)"
   ]
  },
  {
   "cell_type": "code",
   "execution_count": 17,
   "metadata": {},
   "outputs": [
    {
     "data": {
      "text/html": [
       "<div>\n",
       "<style scoped>\n",
       "    .dataframe tbody tr th:only-of-type {\n",
       "        vertical-align: middle;\n",
       "    }\n",
       "\n",
       "    .dataframe tbody tr th {\n",
       "        vertical-align: top;\n",
       "    }\n",
       "\n",
       "    .dataframe thead th {\n",
       "        text-align: right;\n",
       "    }\n",
       "</style>\n",
       "<table border=\"1\" class=\"dataframe\">\n",
       "  <thead>\n",
       "    <tr style=\"text-align: right;\">\n",
       "      <th></th>\n",
       "      <th>Response</th>\n",
       "      <th>Comments</th>\n",
       "      <th>cleaned_comments</th>\n",
       "      <th>cleaned_comments_new</th>\n",
       "      <th>msg_clean_tokenized</th>\n",
       "    </tr>\n",
       "  </thead>\n",
       "  <tbody>\n",
       "    <tr>\n",
       "      <th>0</th>\n",
       "      <td>Positive</td>\n",
       "      <td>Flyover need for us but public not use is</td>\n",
       "      <td>flyover need for us but public not use is</td>\n",
       "      <td>flyover need for us but public not use is</td>\n",
       "      <td>[,  ,  ,  ,  ,  ,  ,  ,  , ]</td>\n",
       "    </tr>\n",
       "    <tr>\n",
       "      <th>1</th>\n",
       "      <td>Positive</td>\n",
       "      <td>Flyover helps for ambulance.</td>\n",
       "      <td>flyover helps for ambulance</td>\n",
       "      <td>flyover helps for ambulance</td>\n",
       "      <td>[,  ,  ,  , ]</td>\n",
       "    </tr>\n",
       "    <tr>\n",
       "      <th>2</th>\n",
       "      <td>Positive</td>\n",
       "      <td>Local bus not use flyover. But private car use...</td>\n",
       "      <td>local bus not use flyover but private car use it</td>\n",
       "      <td>local bus not use flyover but private car use it</td>\n",
       "      <td>[,  ,  ,  ,  ,  ,  ,  ,  ,  ,  ]</td>\n",
       "    </tr>\n",
       "    <tr>\n",
       "      <th>3</th>\n",
       "      <td>Negative</td>\n",
       "      <td>Not use public it.</td>\n",
       "      <td>not use public it</td>\n",
       "      <td>not use public it</td>\n",
       "      <td>[,  ,  ,  , ]</td>\n",
       "    </tr>\n",
       "    <tr>\n",
       "      <th>4</th>\n",
       "      <td>Negative</td>\n",
       "      <td>Rickshaw can not use it.</td>\n",
       "      <td>rickshaw can not use it</td>\n",
       "      <td>rickshaw can not use it</td>\n",
       "      <td>[,  ,  ,  ,  , ]</td>\n",
       "    </tr>\n",
       "  </tbody>\n",
       "</table>\n",
       "</div>"
      ],
      "text/plain": [
       "   Response                                           Comments  \\\n",
       "0  Positive          Flyover need for us but public not use is   \n",
       "1  Positive                       Flyover helps for ambulance.   \n",
       "2  Positive  Local bus not use flyover. But private car use...   \n",
       "3  Negative                                 Not use public it.   \n",
       "4  Negative                           Rickshaw can not use it.   \n",
       "\n",
       "                                    cleaned_comments  \\\n",
       "0          flyover need for us but public not use is   \n",
       "1                        flyover helps for ambulance   \n",
       "2  local bus not use flyover but private car use it    \n",
       "3                                  not use public it   \n",
       "4                            rickshaw can not use it   \n",
       "\n",
       "                                cleaned_comments_new  \\\n",
       "0          flyover need for us but public not use is   \n",
       "1                        flyover helps for ambulance   \n",
       "2  local bus not use flyover but private car use it    \n",
       "3                                  not use public it   \n",
       "4                            rickshaw can not use it   \n",
       "\n",
       "                msg_clean_tokenized  \n",
       "0      [,  ,  ,  ,  ,  ,  ,  ,  , ]  \n",
       "1                     [,  ,  ,  , ]  \n",
       "2  [,  ,  ,  ,  ,  ,  ,  ,  ,  ,  ]  \n",
       "3                     [,  ,  ,  , ]  \n",
       "4                  [,  ,  ,  ,  , ]  "
      ]
     },
     "execution_count": 17,
     "metadata": {},
     "output_type": "execute_result"
    }
   ],
   "source": [
    "\n",
    "import re\n",
    "def tokenize(txt):\n",
    "    tokens = re.split('\\w+', txt)\n",
    "    return tokens\n",
    "Reviewdata['msg_clean_tokenized']=Reviewdata['cleaned_comments_new'].apply(lambda x:tokenize(x.lower()))\n",
    "Reviewdata.head()"
   ]
  },
  {
   "cell_type": "code",
   "execution_count": 24,
   "metadata": {},
   "outputs": [
    {
     "name": "stdout",
     "output_type": "stream",
     "text": [
      "IV_train : 147\n",
      "IV_test  : 17\n",
      "DV_train : 147\n",
      "DV_test  : 17\n"
     ]
    }
   ],
   "source": [
    "from sklearn.model_selection import train_test_split\n",
    "\n",
    "Independent_var = Reviewdata.cleaned_comments_new\n",
    "Dependent_var = Reviewdata.Response\n",
    "\n",
    "IV_train, IV_test, DV_train, DV_test = train_test_split(Independent_var, Dependent_var, test_size = 0.1, random_state = 225)\n",
    "\n",
    "print('IV_train :', len(IV_train))\n",
    "print('IV_test  :', len(IV_test))\n",
    "print('DV_train :', len(DV_train))\n",
    "print('DV_test  :', len(DV_test))\n"
   ]
  },
  {
   "cell_type": "code",
   "execution_count": 57,
   "metadata": {},
   "outputs": [],
   "source": [
    "from sklearn.feature_extraction.text import TfidfVectorizer\n",
    "from sklearn.linear_model import LogisticRegression \n",
    "\n",
    "tvec = TfidfVectorizer()\n",
    "clf2 = LogisticRegression(solver = \"lbfgs\")\n",
    "\n",
    "\n",
    "from sklearn.pipeline import Pipeline"
   ]
  },
  {
   "cell_type": "code",
   "execution_count": 58,
   "metadata": {},
   "outputs": [
    {
     "data": {
      "text/plain": [
       "array([[8, 1],\n",
       "       [0, 8]], dtype=int64)"
      ]
     },
     "execution_count": 58,
     "metadata": {},
     "output_type": "execute_result"
    }
   ],
   "source": [
    "model = Pipeline([('vectorizer',tvec),('classifier',clf2)])\n",
    "\n",
    "model.fit(IV_train, DV_train)\n",
    "\n",
    "\n",
    "from sklearn.metrics import confusion_matrix\n",
    "\n",
    "predictions = model.predict(IV_test)\n",
    "\n",
    "confusion_matrix(predictions, DV_test)"
   ]
  },
  {
   "cell_type": "code",
   "execution_count": 59,
   "metadata": {},
   "outputs": [
    {
     "name": "stdout",
     "output_type": "stream",
     "text": [
      "Accuracy :  0.9411764705882353\n",
      "Precision :  0.9477124183006536\n",
      "Recall :  0.9411764705882353\n"
     ]
    }
   ],
   "source": [
    "from sklearn.metrics import accuracy_score, precision_score, recall_score\n",
    "\n",
    "print(\"Accuracy : \", accuracy_score(predictions, DV_test))\n",
    "print(\"Precision : \", precision_score(predictions, DV_test, average = 'weighted'))\n",
    "print(\"Recall : \", recall_score(predictions, DV_test, average = 'weighted'))"
   ]
  },
  {
   "cell_type": "code",
   "execution_count": 60,
   "metadata": {},
   "outputs": [
    {
     "name": "stdout",
     "output_type": "stream",
     "text": [
      "['Positive']\n"
     ]
    }
   ],
   "source": [
    "example = [\"it helps us but we do not use flyover\"]\n",
    "result = model.predict(example)\n",
    "\n",
    "print(result) "
   ]
  },
  {
   "cell_type": "code",
   "execution_count": 493,
   "metadata": {},
   "outputs": [],
   "source": [
    "import joblib"
   ]
  },
  {
   "cell_type": "code",
   "execution_count": 494,
   "metadata": {},
   "outputs": [
    {
     "data": {
      "text/plain": [
       "['finalized_model.sav']"
      ]
     },
     "execution_count": 494,
     "metadata": {},
     "output_type": "execute_result"
    }
   ],
   "source": [
    "filename = 'finalized_model.sav'\n",
    "joblib.dump(model, filename)"
   ]
  },
  {
   "cell_type": "code",
   "execution_count": 495,
   "metadata": {},
   "outputs": [],
   "source": [
    "loaded_model = joblib.load(filename)"
   ]
  },
  {
   "cell_type": "code",
   "execution_count": 496,
   "metadata": {},
   "outputs": [
    {
     "name": "stdout",
     "output_type": "stream",
     "text": [
      "['Negative']\n"
     ]
    }
   ],
   "source": [
    "result = loaded_model.predict(example)\n",
    "\n",
    "print(result)"
   ]
  },
  {
   "cell_type": "code",
   "execution_count": 497,
   "metadata": {},
   "outputs": [],
   "source": [
    "import pickle\n",
    "\n",
    "filename = 'finalized_model_pickle.sav'\n",
    "pickle.dump(model, open(filename, 'wb'))"
   ]
  },
  {
   "cell_type": "code",
   "execution_count": 498,
   "metadata": {},
   "outputs": [
    {
     "name": "stdout",
     "output_type": "stream",
     "text": [
      "['Negative']\n"
     ]
    }
   ],
   "source": [
    "# load the model from disk\n",
    "loaded_model = pickle.load(open(filename, 'rb'))\n",
    "\n",
    "result = loaded_model.predict(example)\n",
    "print(result)"
   ]
  },
  {
   "cell_type": "code",
   "execution_count": 499,
   "metadata": {},
   "outputs": [
    {
     "name": "stdout",
     "output_type": "stream",
     "text": [
      " Volume in drive F has no label.\n",
      " Volume Serial Number is BCA1-C1E6\n",
      "\n",
      " Directory of F:\\thesis\n",
      "\n",
      "30/04/2021  10:06 PM    <DIR>          .\n",
      "30/04/2021  10:06 PM    <DIR>          ..\n",
      "12/03/2021  07:04 PM           546,481 1491395900_GS435ijarse.pdf\n",
      "30/04/2021  10:06 PM             4,977 finalized_model.sav\n",
      "30/04/2021  10:06 PM             4,685 finalized_model_pickle.sav\n",
      "26/04/2021  12:08 PM            58,229 research paper old.docx\n",
      "30/04/2021  08:51 PM           374,302 research paper.docx\n",
      "30/04/2021  09:19 PM    <DIR>          Reserve\n",
      "30/04/2021  09:58 PM             1,567 test.csv\n",
      "26/04/2021  09:29 PM            26,569 Traffic_Sentimental_Analysis - Copy.csv\n",
      "30/04/2021  07:42 PM            48,524 Traffic_Sentimental_Analysis.csv\n",
      "30/04/2021  07:25 PM        35,726,565 train.csv\n",
      "30/04/2021  09:59 PM             1,563 train_dataset.csv\n",
      "              10 File(s)     36,793,462 bytes\n",
      "               3 Dir(s)   1,180,536,832 bytes free\n"
     ]
    }
   ],
   "source": [
    "!dir"
   ]
  },
  {
   "cell_type": "code",
   "execution_count": null,
   "metadata": {},
   "outputs": [],
   "source": []
  },
  {
   "cell_type": "code",
   "execution_count": null,
   "metadata": {},
   "outputs": [],
   "source": []
  },
  {
   "cell_type": "code",
   "execution_count": null,
   "metadata": {},
   "outputs": [],
   "source": []
  }
 ],
 "metadata": {
  "kernelspec": {
   "display_name": "Python 3",
   "language": "python",
   "name": "python3"
  },
  "language_info": {
   "codemirror_mode": {
    "name": "ipython",
    "version": 3
   },
   "file_extension": ".py",
   "mimetype": "text/x-python",
   "name": "python",
   "nbconvert_exporter": "python",
   "pygments_lexer": "ipython3",
   "version": "3.8.5"
  }
 },
 "nbformat": 4,
 "nbformat_minor": 4
}
