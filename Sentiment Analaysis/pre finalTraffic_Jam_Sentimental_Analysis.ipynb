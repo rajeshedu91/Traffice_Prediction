{
 "cells": [
  {
   "cell_type": "code",
   "execution_count": 713,
   "metadata": {},
   "outputs": [],
   "source": [
    "import warnings\n",
    "warnings.filterwarnings('ignore')\n",
    "\n",
    "import os\n",
    "dir_Path = 'F:\\\\thesis'\n",
    "os.chdir(dir_Path)"
   ]
  },
  {
   "cell_type": "code",
   "execution_count": 714,
   "metadata": {},
   "outputs": [],
   "source": [
    "import pandas as pd \n",
    "\n",
    "Reviewdata = pd.read_csv('Traffic_Sentimental_Analysis.csv')"
   ]
  },
  {
   "cell_type": "code",
   "execution_count": 715,
   "metadata": {},
   "outputs": [
    {
     "data": {
      "text/plain": [
       "(201, 7)"
      ]
     },
     "execution_count": 715,
     "metadata": {},
     "output_type": "execute_result"
    }
   ],
   "source": [
    "Reviewdata.shape"
   ]
  },
  {
   "cell_type": "code",
   "execution_count": 716,
   "metadata": {
    "scrolled": true
   },
   "outputs": [
    {
     "data": {
      "text/html": [
       "<div>\n",
       "<style scoped>\n",
       "    .dataframe tbody tr th:only-of-type {\n",
       "        vertical-align: middle;\n",
       "    }\n",
       "\n",
       "    .dataframe tbody tr th {\n",
       "        vertical-align: top;\n",
       "    }\n",
       "\n",
       "    .dataframe thead th {\n",
       "        text-align: right;\n",
       "    }\n",
       "</style>\n",
       "<table border=\"1\" class=\"dataframe\">\n",
       "  <thead>\n",
       "    <tr style=\"text-align: right;\">\n",
       "      <th></th>\n",
       "      <th>Timestamp</th>\n",
       "      <th>Reason</th>\n",
       "      <th>Region</th>\n",
       "      <th>Traffic_Hour</th>\n",
       "      <th>Day</th>\n",
       "      <th>Traffic_Type</th>\n",
       "      <th>Comments</th>\n",
       "    </tr>\n",
       "  </thead>\n",
       "  <tbody>\n",
       "    <tr>\n",
       "      <th>0</th>\n",
       "      <td>1/18/2021 21:55:17</td>\n",
       "      <td>Hawker on the side of the road</td>\n",
       "      <td>Bhoddarhat</td>\n",
       "      <td>Morning</td>\n",
       "      <td>Thursday</td>\n",
       "      <td>Yes</td>\n",
       "      <td>Bhoddarhat is very congested in the Morning. H...</td>\n",
       "    </tr>\n",
       "    <tr>\n",
       "      <th>1</th>\n",
       "      <td>1/18/2021 21:55:17</td>\n",
       "      <td>Does not obey traffic laws, Hawker on the side...</td>\n",
       "      <td>Bohoddarhat</td>\n",
       "      <td>Noon</td>\n",
       "      <td>Thursday</td>\n",
       "      <td>Yes</td>\n",
       "      <td>Bohoddarhat  is very congested in the Noon. Do...</td>\n",
       "    </tr>\n",
       "    <tr>\n",
       "      <th>2</th>\n",
       "      <td>1/18/2021 21:55:17</td>\n",
       "      <td>Job holder people go to the office.</td>\n",
       "      <td>pachlaish</td>\n",
       "      <td>Morning</td>\n",
       "      <td>Saturday, Sunday, Monday, Tuesday, Wednesday, ...</td>\n",
       "      <td>No</td>\n",
       "      <td>pachlaish is very congested in the Morning. Jo...</td>\n",
       "    </tr>\n",
       "    <tr>\n",
       "      <th>3</th>\n",
       "      <td>1/18/2021 21:55:17</td>\n",
       "      <td>Export Import activists of CTG Port</td>\n",
       "      <td>agrabad</td>\n",
       "      <td>Dawn</td>\n",
       "      <td>Saturday, Monday, Wednesday</td>\n",
       "      <td>No</td>\n",
       "      <td>agrabad is very congested in the Dawn. Export ...</td>\n",
       "    </tr>\n",
       "    <tr>\n",
       "      <th>4</th>\n",
       "      <td>1/18/2021 21:55:17</td>\n",
       "      <td>More vehicle</td>\n",
       "      <td>GEC</td>\n",
       "      <td>Mid-Morning</td>\n",
       "      <td>Sunday, Monday, Tuesday, Wednesday, Thursday</td>\n",
       "      <td>Yes</td>\n",
       "      <td>GEC is very congested in the Mid-Morning. More...</td>\n",
       "    </tr>\n",
       "  </tbody>\n",
       "</table>\n",
       "</div>"
      ],
      "text/plain": [
       "            Timestamp                                             Reason  \\\n",
       "0  1/18/2021 21:55:17                     Hawker on the side of the road   \n",
       "1  1/18/2021 21:55:17  Does not obey traffic laws, Hawker on the side...   \n",
       "2  1/18/2021 21:55:17                Job holder people go to the office.   \n",
       "3  1/18/2021 21:55:17                Export Import activists of CTG Port   \n",
       "4  1/18/2021 21:55:17                                      More vehicle    \n",
       "\n",
       "         Region Traffic_Hour  \\\n",
       "0    Bhoddarhat      Morning   \n",
       "1  Bohoddarhat          Noon   \n",
       "2     pachlaish      Morning   \n",
       "3       agrabad         Dawn   \n",
       "4           GEC  Mid-Morning   \n",
       "\n",
       "                                                 Day Traffic_Type  \\\n",
       "0                                           Thursday          Yes   \n",
       "1                                           Thursday          Yes   \n",
       "2  Saturday, Sunday, Monday, Tuesday, Wednesday, ...           No   \n",
       "3                        Saturday, Monday, Wednesday           No   \n",
       "4       Sunday, Monday, Tuesday, Wednesday, Thursday          Yes   \n",
       "\n",
       "                                            Comments  \n",
       "0  Bhoddarhat is very congested in the Morning. H...  \n",
       "1  Bohoddarhat  is very congested in the Noon. Do...  \n",
       "2  pachlaish is very congested in the Morning. Jo...  \n",
       "3  agrabad is very congested in the Dawn. Export ...  \n",
       "4  GEC is very congested in the Mid-Morning. More...  "
      ]
     },
     "execution_count": 716,
     "metadata": {},
     "output_type": "execute_result"
    }
   ],
   "source": [
    "Reviewdata.head()"
   ]
  },
  {
   "cell_type": "code",
   "execution_count": 717,
   "metadata": {},
   "outputs": [],
   "source": [
    "#Reviewdata = pd.read_csv('Traffic_Sentimental_Analysis.csv')\n",
    "#Reviewdata['Comments'] = Reviewdata['Region']+ ' '+ Reviewdata['Traffic_Hour'].astype(str)+ ' '+ Reviewdata['Day']\n",
    "#Reviewdata"
   ]
  },
  {
   "cell_type": "code",
   "execution_count": 718,
   "metadata": {},
   "outputs": [
    {
     "name": "stdout",
     "output_type": "stream",
     "text": [
      "<class 'pandas.core.frame.DataFrame'>\n",
      "RangeIndex: 201 entries, 0 to 200\n",
      "Data columns (total 7 columns):\n",
      " #   Column        Non-Null Count  Dtype \n",
      "---  ------        --------------  ----- \n",
      " 0   Timestamp     201 non-null    object\n",
      " 1   Reason        201 non-null    object\n",
      " 2   Region        201 non-null    object\n",
      " 3   Traffic_Hour  201 non-null    object\n",
      " 4   Day           201 non-null    object\n",
      " 5   Traffic_Type  201 non-null    object\n",
      " 6   Comments      201 non-null    object\n",
      "dtypes: object(7)\n",
      "memory usage: 11.1+ KB\n"
     ]
    }
   ],
   "source": [
    "Reviewdata.info()"
   ]
  },
  {
   "cell_type": "code",
   "execution_count": 719,
   "metadata": {},
   "outputs": [
    {
     "data": {
      "text/html": [
       "<div>\n",
       "<style scoped>\n",
       "    .dataframe tbody tr th:only-of-type {\n",
       "        vertical-align: middle;\n",
       "    }\n",
       "\n",
       "    .dataframe tbody tr th {\n",
       "        vertical-align: top;\n",
       "    }\n",
       "\n",
       "    .dataframe thead th {\n",
       "        text-align: right;\n",
       "    }\n",
       "</style>\n",
       "<table border=\"1\" class=\"dataframe\">\n",
       "  <thead>\n",
       "    <tr style=\"text-align: right;\">\n",
       "      <th></th>\n",
       "      <th>count</th>\n",
       "      <th>unique</th>\n",
       "      <th>top</th>\n",
       "      <th>freq</th>\n",
       "    </tr>\n",
       "  </thead>\n",
       "  <tbody>\n",
       "    <tr>\n",
       "      <th>Timestamp</th>\n",
       "      <td>201</td>\n",
       "      <td>192</td>\n",
       "      <td>1/18/2021 21:55:17</td>\n",
       "      <td>6</td>\n",
       "    </tr>\n",
       "    <tr>\n",
       "      <th>Reason</th>\n",
       "      <td>201</td>\n",
       "      <td>29</td>\n",
       "      <td>Does not obey traffic laws, Hawker on the side...</td>\n",
       "      <td>68</td>\n",
       "    </tr>\n",
       "    <tr>\n",
       "      <th>Region</th>\n",
       "      <td>201</td>\n",
       "      <td>64</td>\n",
       "      <td>Muradpur</td>\n",
       "      <td>14</td>\n",
       "    </tr>\n",
       "    <tr>\n",
       "      <th>Traffic_Hour</th>\n",
       "      <td>201</td>\n",
       "      <td>8</td>\n",
       "      <td>Mid-Morning</td>\n",
       "      <td>46</td>\n",
       "    </tr>\n",
       "    <tr>\n",
       "      <th>Day</th>\n",
       "      <td>201</td>\n",
       "      <td>24</td>\n",
       "      <td>Sunday, Monday, Tuesday, Wednesday, Thursday</td>\n",
       "      <td>146</td>\n",
       "    </tr>\n",
       "    <tr>\n",
       "      <th>Traffic_Type</th>\n",
       "      <td>201</td>\n",
       "      <td>2</td>\n",
       "      <td>Yes</td>\n",
       "      <td>113</td>\n",
       "    </tr>\n",
       "    <tr>\n",
       "      <th>Comments</th>\n",
       "      <td>201</td>\n",
       "      <td>182</td>\n",
       "      <td>pachlaish is very congested in the Morning. Jo...</td>\n",
       "      <td>3</td>\n",
       "    </tr>\n",
       "  </tbody>\n",
       "</table>\n",
       "</div>"
      ],
      "text/plain": [
       "             count unique                                                top  \\\n",
       "Timestamp      201    192                                 1/18/2021 21:55:17   \n",
       "Reason         201     29  Does not obey traffic laws, Hawker on the side...   \n",
       "Region         201     64                                          Muradpur    \n",
       "Traffic_Hour   201      8                                        Mid-Morning   \n",
       "Day            201     24       Sunday, Monday, Tuesday, Wednesday, Thursday   \n",
       "Traffic_Type   201      2                                                Yes   \n",
       "Comments       201    182  pachlaish is very congested in the Morning. Jo...   \n",
       "\n",
       "             freq  \n",
       "Timestamp       6  \n",
       "Reason         68  \n",
       "Region         14  \n",
       "Traffic_Hour   46  \n",
       "Day           146  \n",
       "Traffic_Type  113  \n",
       "Comments        3  "
      ]
     },
     "execution_count": 719,
     "metadata": {},
     "output_type": "execute_result"
    }
   ],
   "source": [
    "Reviewdata.describe().transpose()"
   ]
  },
  {
   "cell_type": "code",
   "execution_count": 720,
   "metadata": {},
   "outputs": [
    {
     "name": "stdout",
     "output_type": "stream",
     "text": [
      "Count and percentage of missing values for the columns:\n"
     ]
    },
    {
     "data": {
      "text/html": [
       "<div>\n",
       "<style scoped>\n",
       "    .dataframe tbody tr th:only-of-type {\n",
       "        vertical-align: middle;\n",
       "    }\n",
       "\n",
       "    .dataframe tbody tr th {\n",
       "        vertical-align: top;\n",
       "    }\n",
       "\n",
       "    .dataframe thead th {\n",
       "        text-align: right;\n",
       "    }\n",
       "</style>\n",
       "<table border=\"1\" class=\"dataframe\">\n",
       "  <thead>\n",
       "    <tr style=\"text-align: right;\">\n",
       "      <th></th>\n",
       "      <th>Count</th>\n",
       "      <th>Percentage</th>\n",
       "    </tr>\n",
       "  </thead>\n",
       "  <tbody>\n",
       "    <tr>\n",
       "      <th>Comments</th>\n",
       "      <td>0</td>\n",
       "      <td>0.0</td>\n",
       "    </tr>\n",
       "    <tr>\n",
       "      <th>Traffic_Type</th>\n",
       "      <td>0</td>\n",
       "      <td>0.0</td>\n",
       "    </tr>\n",
       "    <tr>\n",
       "      <th>Day</th>\n",
       "      <td>0</td>\n",
       "      <td>0.0</td>\n",
       "    </tr>\n",
       "    <tr>\n",
       "      <th>Traffic_Hour</th>\n",
       "      <td>0</td>\n",
       "      <td>0.0</td>\n",
       "    </tr>\n",
       "    <tr>\n",
       "      <th>Region</th>\n",
       "      <td>0</td>\n",
       "      <td>0.0</td>\n",
       "    </tr>\n",
       "    <tr>\n",
       "      <th>Reason</th>\n",
       "      <td>0</td>\n",
       "      <td>0.0</td>\n",
       "    </tr>\n",
       "    <tr>\n",
       "      <th>Timestamp</th>\n",
       "      <td>0</td>\n",
       "      <td>0.0</td>\n",
       "    </tr>\n",
       "  </tbody>\n",
       "</table>\n",
       "</div>"
      ],
      "text/plain": [
       "              Count  Percentage\n",
       "Comments          0         0.0\n",
       "Traffic_Type      0         0.0\n",
       "Day               0         0.0\n",
       "Traffic_Hour      0         0.0\n",
       "Region            0         0.0\n",
       "Reason            0         0.0\n",
       "Timestamp         0         0.0"
      ]
     },
     "execution_count": 720,
     "metadata": {},
     "output_type": "execute_result"
    }
   ],
   "source": [
    "count = Reviewdata.isnull().sum().sort_values(ascending=False)\n",
    "percentage = ((Reviewdata.isnull().sum()/len(Reviewdata)*100)).sort_values(ascending=False)\n",
    "missing_data = pd.concat([count, percentage], axis=1,\n",
    "keys=['Count','Percentage'])\n",
    "\n",
    "print('Count and percentage of missing values for the columns:')\n",
    "\n",
    "missing_data"
   ]
  },
  {
   "cell_type": "code",
   "execution_count": 721,
   "metadata": {},
   "outputs": [
    {
     "name": "stdout",
     "output_type": "stream",
     "text": [
      "Percentage for default\n",
      "\n",
      "Yes    56.22\n",
      "No     43.78\n",
      "Name: Traffic_Type, dtype: float64\n"
     ]
    },
    {
     "data": {
      "image/png": "[encoded data removed]",
      "text/plain": [
       "<Figure size 432x288 with 1 Axes>"
      ]
     },
     "metadata": {
      "needs_background": "light"
     },
     "output_type": "display_data"
    }
   ],
   "source": [
    "\n",
    "import matplotlib.pyplot as plt\n",
    "%matplotlib inline\n",
    "print('Percentage for default\\n')\n",
    "print(round(Reviewdata.Traffic_Type.value_counts(normalize=True)*100,2))\n",
    "round(Reviewdata.Traffic_Type.value_counts(normalize=True)*100,2).plot(kind='bar')\n",
    "plt.title('Percentage Distributions by review type')\n",
    "plt.show()"
   ]
  },
  {
   "cell_type": "code",
   "execution_count": 722,
   "metadata": {},
   "outputs": [
    {
     "name": "stdout",
     "output_type": "stream",
     "text": [
      "Percentage for default\n",
      "\n",
      "Mid-Morning      22.89\n",
      "Evening          20.40\n",
      "Noon             15.92\n",
      "Morning          14.93\n",
      "Night             9.95\n",
      "Afternoon         7.46\n",
      "Early-Morning     5.47\n",
      "Dawn              2.99\n",
      "Name: Traffic_Hour, dtype: float64\n"
     ]
    },
    {
     "data": {
      "image/png": "[encoded data removed]",
      "text/plain": [
       "<Figure size 432x288 with 1 Axes>"
      ]
     },
     "metadata": {
      "needs_background": "light"
     },
     "output_type": "display_data"
    }
   ],
   "source": [
    "\n",
    "import matplotlib.pyplot as plt\n",
    "%matplotlib inline\n",
    "print('Percentage for default\\n')\n",
    "print(round(Reviewdata.Traffic_Hour.value_counts(normalize=True)*100,2))\n",
    "round(Reviewdata.Traffic_Hour.value_counts(normalize=True)*100,2).plot(kind='bar')\n",
    "plt.title('Percentage Distributions by review type')\n",
    "plt.show()"
   ]
  },
  {
   "cell_type": "code",
   "execution_count": 723,
   "metadata": {},
   "outputs": [],
   "source": [
    "\n",
    "Reviewdata.drop(columns = ['Timestamp','Traffic_Hour','Day','Reason'], inplace = True)"
   ]
  },
  {
   "cell_type": "code",
   "execution_count": 724,
   "metadata": {},
   "outputs": [],
   "source": [
    "\n",
    "import re\n",
    "import string\n",
    "\n",
    "\n",
    "def text_clean_1(text):\n",
    "    text = text.lower()\n",
    "    text = re.sub('\\[.*?\\]', '', text)\n",
    "    text = re.sub('[%s]' % re.escape(string.punctuation), '', text)\n",
    "    text = re.sub('\\w*\\d\\w*', '', text)\n",
    "    return text\n",
    "\n",
    "cleaned1 = lambda x: text_clean_1(x)"
   ]
  },
  {
   "cell_type": "code",
   "execution_count": 725,
   "metadata": {},
   "outputs": [
    {
     "data": {
      "text/html": [
       "<div>\n",
       "<style scoped>\n",
       "    .dataframe tbody tr th:only-of-type {\n",
       "        vertical-align: middle;\n",
       "    }\n",
       "\n",
       "    .dataframe tbody tr th {\n",
       "        vertical-align: top;\n",
       "    }\n",
       "\n",
       "    .dataframe thead th {\n",
       "        text-align: right;\n",
       "    }\n",
       "</style>\n",
       "<table border=\"1\" class=\"dataframe\">\n",
       "  <thead>\n",
       "    <tr style=\"text-align: right;\">\n",
       "      <th></th>\n",
       "      <th>Region</th>\n",
       "      <th>Traffic_Type</th>\n",
       "      <th>Comments</th>\n",
       "      <th>cleaned_comments</th>\n",
       "    </tr>\n",
       "  </thead>\n",
       "  <tbody>\n",
       "    <tr>\n",
       "      <th>0</th>\n",
       "      <td>Bhoddarhat</td>\n",
       "      <td>Yes</td>\n",
       "      <td>Bhoddarhat is very congested in the Morning. H...</td>\n",
       "      <td>bhoddarhat is very congested in the morning ha...</td>\n",
       "    </tr>\n",
       "    <tr>\n",
       "      <th>1</th>\n",
       "      <td>Bohoddarhat</td>\n",
       "      <td>Yes</td>\n",
       "      <td>Bohoddarhat  is very congested in the Noon. Do...</td>\n",
       "      <td>bohoddarhat  is very congested in the noon doe...</td>\n",
       "    </tr>\n",
       "    <tr>\n",
       "      <th>2</th>\n",
       "      <td>pachlaish</td>\n",
       "      <td>No</td>\n",
       "      <td>pachlaish is very congested in the Morning. Jo...</td>\n",
       "      <td>pachlaish is very congested in the morning job...</td>\n",
       "    </tr>\n",
       "    <tr>\n",
       "      <th>3</th>\n",
       "      <td>agrabad</td>\n",
       "      <td>No</td>\n",
       "      <td>agrabad is very congested in the Dawn. Export ...</td>\n",
       "      <td>agrabad is very congested in the dawn export i...</td>\n",
       "    </tr>\n",
       "    <tr>\n",
       "      <th>4</th>\n",
       "      <td>GEC</td>\n",
       "      <td>Yes</td>\n",
       "      <td>GEC is very congested in the Mid-Morning. More...</td>\n",
       "      <td>gec is very congested in the midmorning more v...</td>\n",
       "    </tr>\n",
       "    <tr>\n",
       "      <th>5</th>\n",
       "      <td>Gate no Two</td>\n",
       "      <td>No</td>\n",
       "      <td>Gate no Two is very congested in the Morning. ...</td>\n",
       "      <td>gate no two is very congested in the morning h...</td>\n",
       "    </tr>\n",
       "    <tr>\n",
       "      <th>6</th>\n",
       "      <td>Muradpur</td>\n",
       "      <td>No</td>\n",
       "      <td>Muradpur is very congested in the Dawn. break ...</td>\n",
       "      <td>muradpur is very congested in the dawn break t...</td>\n",
       "    </tr>\n",
       "    <tr>\n",
       "      <th>7</th>\n",
       "      <td>Muradpur</td>\n",
       "      <td>Yes</td>\n",
       "      <td>Muradpur is very congested in the Noon. Reason...</td>\n",
       "      <td>muradpur is very congested in the noon reason ...</td>\n",
       "    </tr>\n",
       "    <tr>\n",
       "      <th>8</th>\n",
       "      <td>Muradpur</td>\n",
       "      <td>No</td>\n",
       "      <td>Muradpur is very congested in the Dawn. beside...</td>\n",
       "      <td>muradpur is very congested in the dawn beside ...</td>\n",
       "    </tr>\n",
       "    <tr>\n",
       "      <th>9</th>\n",
       "      <td>GEC</td>\n",
       "      <td>Yes</td>\n",
       "      <td>GEC is very congested in the Mid-Morning. More...</td>\n",
       "      <td>gec is very congested in the midmorning more v...</td>\n",
       "    </tr>\n",
       "  </tbody>\n",
       "</table>\n",
       "</div>"
      ],
      "text/plain": [
       "         Region Traffic_Type  \\\n",
       "0    Bhoddarhat          Yes   \n",
       "1  Bohoddarhat           Yes   \n",
       "2     pachlaish           No   \n",
       "3       agrabad           No   \n",
       "4           GEC          Yes   \n",
       "5   Gate no Two           No   \n",
       "6      Muradpur           No   \n",
       "7      Muradpur          Yes   \n",
       "8      Muradpur           No   \n",
       "9           GEC          Yes   \n",
       "\n",
       "                                            Comments  \\\n",
       "0  Bhoddarhat is very congested in the Morning. H...   \n",
       "1  Bohoddarhat  is very congested in the Noon. Do...   \n",
       "2  pachlaish is very congested in the Morning. Jo...   \n",
       "3  agrabad is very congested in the Dawn. Export ...   \n",
       "4  GEC is very congested in the Mid-Morning. More...   \n",
       "5  Gate no Two is very congested in the Morning. ...   \n",
       "6  Muradpur is very congested in the Dawn. break ...   \n",
       "7  Muradpur is very congested in the Noon. Reason...   \n",
       "8  Muradpur is very congested in the Dawn. beside...   \n",
       "9  GEC is very congested in the Mid-Morning. More...   \n",
       "\n",
       "                                    cleaned_comments  \n",
       "0  bhoddarhat is very congested in the morning ha...  \n",
       "1  bohoddarhat  is very congested in the noon doe...  \n",
       "2  pachlaish is very congested in the morning job...  \n",
       "3  agrabad is very congested in the dawn export i...  \n",
       "4  gec is very congested in the midmorning more v...  \n",
       "5  gate no two is very congested in the morning h...  \n",
       "6  muradpur is very congested in the dawn break t...  \n",
       "7  muradpur is very congested in the noon reason ...  \n",
       "8  muradpur is very congested in the dawn beside ...  \n",
       "9  gec is very congested in the midmorning more v...  "
      ]
     },
     "execution_count": 725,
     "metadata": {},
     "output_type": "execute_result"
    }
   ],
   "source": [
    "\n",
    "Reviewdata['cleaned_comments'] = pd.DataFrame(Reviewdata.Comments.apply(cleaned1))\n",
    "Reviewdata.head(10)"
   ]
  },
  {
   "cell_type": "code",
   "execution_count": 726,
   "metadata": {},
   "outputs": [],
   "source": [
    "# Apply a second round of cleaning\n",
    "def text_clean_2(text):\n",
    "    text = re.sub('[‘’“”…]', '', text)\n",
    "    text = re.sub('\\n', '', text)\n",
    "    return text\n",
    "\n",
    "cleaned2 = lambda x: text_clean_2(x)"
   ]
  },
  {
   "cell_type": "code",
   "execution_count": 727,
   "metadata": {
    "scrolled": true
   },
   "outputs": [
    {
     "data": {
      "text/html": [
       "<div>\n",
       "<style scoped>\n",
       "    .dataframe tbody tr th:only-of-type {\n",
       "        vertical-align: middle;\n",
       "    }\n",
       "\n",
       "    .dataframe tbody tr th {\n",
       "        vertical-align: top;\n",
       "    }\n",
       "\n",
       "    .dataframe thead th {\n",
       "        text-align: right;\n",
       "    }\n",
       "</style>\n",
       "<table border=\"1\" class=\"dataframe\">\n",
       "  <thead>\n",
       "    <tr style=\"text-align: right;\">\n",
       "      <th></th>\n",
       "      <th>Region</th>\n",
       "      <th>Traffic_Type</th>\n",
       "      <th>Comments</th>\n",
       "      <th>cleaned_comments</th>\n",
       "      <th>cleaned_comments_new</th>\n",
       "    </tr>\n",
       "  </thead>\n",
       "  <tbody>\n",
       "    <tr>\n",
       "      <th>0</th>\n",
       "      <td>Bhoddarhat</td>\n",
       "      <td>Yes</td>\n",
       "      <td>Bhoddarhat is very congested in the Morning. H...</td>\n",
       "      <td>bhoddarhat is very congested in the morning ha...</td>\n",
       "      <td>bhoddarhat is very congested in the morning ha...</td>\n",
       "    </tr>\n",
       "    <tr>\n",
       "      <th>1</th>\n",
       "      <td>Bohoddarhat</td>\n",
       "      <td>Yes</td>\n",
       "      <td>Bohoddarhat  is very congested in the Noon. Do...</td>\n",
       "      <td>bohoddarhat  is very congested in the noon doe...</td>\n",
       "      <td>bohoddarhat  is very congested in the noon doe...</td>\n",
       "    </tr>\n",
       "    <tr>\n",
       "      <th>2</th>\n",
       "      <td>pachlaish</td>\n",
       "      <td>No</td>\n",
       "      <td>pachlaish is very congested in the Morning. Jo...</td>\n",
       "      <td>pachlaish is very congested in the morning job...</td>\n",
       "      <td>pachlaish is very congested in the morning job...</td>\n",
       "    </tr>\n",
       "    <tr>\n",
       "      <th>3</th>\n",
       "      <td>agrabad</td>\n",
       "      <td>No</td>\n",
       "      <td>agrabad is very congested in the Dawn. Export ...</td>\n",
       "      <td>agrabad is very congested in the dawn export i...</td>\n",
       "      <td>agrabad is very congested in the dawn export i...</td>\n",
       "    </tr>\n",
       "    <tr>\n",
       "      <th>4</th>\n",
       "      <td>GEC</td>\n",
       "      <td>Yes</td>\n",
       "      <td>GEC is very congested in the Mid-Morning. More...</td>\n",
       "      <td>gec is very congested in the midmorning more v...</td>\n",
       "      <td>gec is very congested in the midmorning more v...</td>\n",
       "    </tr>\n",
       "    <tr>\n",
       "      <th>5</th>\n",
       "      <td>Gate no Two</td>\n",
       "      <td>No</td>\n",
       "      <td>Gate no Two is very congested in the Morning. ...</td>\n",
       "      <td>gate no two is very congested in the morning h...</td>\n",
       "      <td>gate no two is very congested in the morning h...</td>\n",
       "    </tr>\n",
       "    <tr>\n",
       "      <th>6</th>\n",
       "      <td>Muradpur</td>\n",
       "      <td>No</td>\n",
       "      <td>Muradpur is very congested in the Dawn. break ...</td>\n",
       "      <td>muradpur is very congested in the dawn break t...</td>\n",
       "      <td>muradpur is very congested in the dawn break t...</td>\n",
       "    </tr>\n",
       "    <tr>\n",
       "      <th>7</th>\n",
       "      <td>Muradpur</td>\n",
       "      <td>Yes</td>\n",
       "      <td>Muradpur is very congested in the Noon. Reason...</td>\n",
       "      <td>muradpur is very congested in the noon reason ...</td>\n",
       "      <td>muradpur is very congested in the noon reason ...</td>\n",
       "    </tr>\n",
       "    <tr>\n",
       "      <th>8</th>\n",
       "      <td>Muradpur</td>\n",
       "      <td>No</td>\n",
       "      <td>Muradpur is very congested in the Dawn. beside...</td>\n",
       "      <td>muradpur is very congested in the dawn beside ...</td>\n",
       "      <td>muradpur is very congested in the dawn beside ...</td>\n",
       "    </tr>\n",
       "    <tr>\n",
       "      <th>9</th>\n",
       "      <td>GEC</td>\n",
       "      <td>Yes</td>\n",
       "      <td>GEC is very congested in the Mid-Morning. More...</td>\n",
       "      <td>gec is very congested in the midmorning more v...</td>\n",
       "      <td>gec is very congested in the midmorning more v...</td>\n",
       "    </tr>\n",
       "  </tbody>\n",
       "</table>\n",
       "</div>"
      ],
      "text/plain": [
       "         Region Traffic_Type  \\\n",
       "0    Bhoddarhat          Yes   \n",
       "1  Bohoddarhat           Yes   \n",
       "2     pachlaish           No   \n",
       "3       agrabad           No   \n",
       "4           GEC          Yes   \n",
       "5   Gate no Two           No   \n",
       "6      Muradpur           No   \n",
       "7      Muradpur          Yes   \n",
       "8      Muradpur           No   \n",
       "9           GEC          Yes   \n",
       "\n",
       "                                            Comments  \\\n",
       "0  Bhoddarhat is very congested in the Morning. H...   \n",
       "1  Bohoddarhat  is very congested in the Noon. Do...   \n",
       "2  pachlaish is very congested in the Morning. Jo...   \n",
       "3  agrabad is very congested in the Dawn. Export ...   \n",
       "4  GEC is very congested in the Mid-Morning. More...   \n",
       "5  Gate no Two is very congested in the Morning. ...   \n",
       "6  Muradpur is very congested in the Dawn. break ...   \n",
       "7  Muradpur is very congested in the Noon. Reason...   \n",
       "8  Muradpur is very congested in the Dawn. beside...   \n",
       "9  GEC is very congested in the Mid-Morning. More...   \n",
       "\n",
       "                                    cleaned_comments  \\\n",
       "0  bhoddarhat is very congested in the morning ha...   \n",
       "1  bohoddarhat  is very congested in the noon doe...   \n",
       "2  pachlaish is very congested in the morning job...   \n",
       "3  agrabad is very congested in the dawn export i...   \n",
       "4  gec is very congested in the midmorning more v...   \n",
       "5  gate no two is very congested in the morning h...   \n",
       "6  muradpur is very congested in the dawn break t...   \n",
       "7  muradpur is very congested in the noon reason ...   \n",
       "8  muradpur is very congested in the dawn beside ...   \n",
       "9  gec is very congested in the midmorning more v...   \n",
       "\n",
       "                                cleaned_comments_new  \n",
       "0  bhoddarhat is very congested in the morning ha...  \n",
       "1  bohoddarhat  is very congested in the noon doe...  \n",
       "2  pachlaish is very congested in the morning job...  \n",
       "3  agrabad is very congested in the dawn export i...  \n",
       "4  gec is very congested in the midmorning more v...  \n",
       "5  gate no two is very congested in the morning h...  \n",
       "6  muradpur is very congested in the dawn break t...  \n",
       "7  muradpur is very congested in the noon reason ...  \n",
       "8  muradpur is very congested in the dawn beside ...  \n",
       "9  gec is very congested in the midmorning more v...  "
      ]
     },
     "execution_count": 727,
     "metadata": {},
     "output_type": "execute_result"
    }
   ],
   "source": [
    "# Let's take a look at the updated text\n",
    "Reviewdata['cleaned_comments_new'] = pd.DataFrame(Reviewdata['cleaned_comments'].apply(cleaned2))\n",
    "Reviewdata.head(10)"
   ]
  },
  {
   "cell_type": "code",
   "execution_count": 728,
   "metadata": {},
   "outputs": [
    {
     "name": "stdout",
     "output_type": "stream",
     "text": [
      "IV_train : 180\n",
      "IV_test  : 21\n",
      "DV_train : 180\n",
      "DV_test  : 21\n"
     ]
    }
   ],
   "source": [
    "from sklearn.model_selection import train_test_split\n",
    "\n",
    "Independent_var = Reviewdata.cleaned_comments_new\n",
    "Dependent_var = Reviewdata.Traffic_Type\n",
    "\n",
    "IV_train, IV_test, DV_train, DV_test = train_test_split(Independent_var, Dependent_var, test_size = 0.1, random_state = 225)\n",
    "\n",
    "print('IV_train :', len(IV_train))\n",
    "print('IV_test  :', len(IV_test))\n",
    "print('DV_train :', len(DV_train))\n",
    "print('DV_test  :', len(DV_test))\n"
   ]
  },
  {
   "cell_type": "code",
   "execution_count": 729,
   "metadata": {},
   "outputs": [],
   "source": [
    "from sklearn.feature_extraction.text import TfidfVectorizer\n",
    "from sklearn.linear_model import LogisticRegression \n",
    "\n",
    "tvec = TfidfVectorizer()\n",
    "clf2 = LogisticRegression(solver = \"lbfgs\")\n",
    "\n",
    "\n",
    "from sklearn.pipeline import Pipeline"
   ]
  },
  {
   "cell_type": "code",
   "execution_count": 730,
   "metadata": {},
   "outputs": [
    {
     "data": {
      "text/plain": [
       "array([[ 7,  0],\n",
       "       [ 3, 11]], dtype=int64)"
      ]
     },
     "execution_count": 730,
     "metadata": {},
     "output_type": "execute_result"
    }
   ],
   "source": [
    "model = Pipeline([('vectorizer',tvec),('classifier',clf2)])\n",
    "\n",
    "model.fit(IV_train, DV_train)\n",
    "\n",
    "\n",
    "from sklearn.metrics import confusion_matrix\n",
    "\n",
    "predictions = model.predict(IV_test)\n",
    "\n",
    "confusion_matrix(predictions, DV_test)"
   ]
  },
  {
   "cell_type": "code",
   "execution_count": 731,
   "metadata": {},
   "outputs": [
    {
     "name": "stdout",
     "output_type": "stream",
     "text": [
      "Accuracy :  0.8571428571428571\n",
      "Precision :  0.8999999999999999\n",
      "Recall :  0.8571428571428571\n"
     ]
    }
   ],
   "source": [
    "from sklearn.metrics import accuracy_score, precision_score, recall_score\n",
    "\n",
    "print(\"Accuracy : \", accuracy_score(predictions, DV_test))\n",
    "print(\"Precision : \", precision_score(predictions, DV_test, average = 'weighted'))\n",
    "print(\"Recall : \", recall_score(predictions, DV_test, average = 'weighted'))"
   ]
  },
  {
   "cell_type": "code",
   "execution_count": 735,
   "metadata": {},
   "outputs": [
    {
     "name": "stdout",
     "output_type": "stream",
     "text": [
      "['No']\n"
     ]
    }
   ],
   "source": [
    "example = [\"Bhoddarhat morning jam type\"]\n",
    "result = model.predict(example)\n",
    "\n",
    "print(result) "
   ]
  },
  {
   "cell_type": "code",
   "execution_count": 696,
   "metadata": {},
   "outputs": [],
   "source": [
    "import joblib"
   ]
  },
  {
   "cell_type": "code",
   "execution_count": 697,
   "metadata": {},
   "outputs": [
    {
     "data": {
      "text/plain": [
       "['finalized_model.sav']"
      ]
     },
     "execution_count": 697,
     "metadata": {},
     "output_type": "execute_result"
    }
   ],
   "source": [
    "filename = 'finalized_model.sav'\n",
    "joblib.dump(model, filename)"
   ]
  },
  {
   "cell_type": "code",
   "execution_count": 698,
   "metadata": {},
   "outputs": [],
   "source": [
    "loaded_model = joblib.load(filename)"
   ]
  },
  {
   "cell_type": "code",
   "execution_count": 699,
   "metadata": {},
   "outputs": [
    {
     "name": "stdout",
     "output_type": "stream",
     "text": [
      "['Yes']\n"
     ]
    }
   ],
   "source": [
    "result = loaded_model.predict(example)\n",
    "\n",
    "print(result)"
   ]
  },
  {
   "cell_type": "code",
   "execution_count": 700,
   "metadata": {},
   "outputs": [],
   "source": [
    "import pickle\n",
    "\n",
    "filename = 'finalized_model_pickle.sav'\n",
    "pickle.dump(model, open(filename, 'wb'))"
   ]
  },
  {
   "cell_type": "code",
   "execution_count": 701,
   "metadata": {},
   "outputs": [
    {
     "name": "stdout",
     "output_type": "stream",
     "text": [
      "['Yes']\n"
     ]
    }
   ],
   "source": [
    "# load the model from disk\n",
    "loaded_model = pickle.load(open(filename, 'rb'))\n",
    "\n",
    "result = loaded_model.predict(example)\n",
    "print(result)"
   ]
  },
  {
   "cell_type": "code",
   "execution_count": 702,
   "metadata": {},
   "outputs": [
    {
     "name": "stdout",
     "output_type": "stream",
     "text": [
      " Volume in drive F has no label.\n",
      " Volume Serial Number is BCA1-C1E6\n",
      "\n",
      " Directory of F:\\thesis\n",
      "\n",
      "27/04/2021  03:05 AM    <DIR>          .\n",
      "27/04/2021  03:05 AM    <DIR>          ..\n",
      "12/03/2021  07:04 PM           546,481 1491395900_GS435ijarse.pdf\n",
      "27/04/2021  03:06 AM             5,751 finalized_model.sav\n",
      "27/04/2021  03:06 AM             5,459 finalized_model_pickle.sav\n",
      "26/04/2021  12:08 PM            58,229 research paper.docx\n",
      "26/04/2021  09:29 PM            26,569 Traffic_Sentimental_Analysis - Copy.csv\n",
      "27/04/2021  03:05 AM            48,554 Traffic_Sentimental_Analysis.csv\n",
      "               6 File(s)        691,043 bytes\n",
      "               2 Dir(s)   1,216,905,216 bytes free\n"
     ]
    }
   ],
   "source": [
    "!dir"
   ]
  },
  {
   "cell_type": "code",
   "execution_count": null,
   "metadata": {},
   "outputs": [],
   "source": []
  },
  {
   "cell_type": "code",
   "execution_count": null,
   "metadata": {},
   "outputs": [],
   "source": []
  },
  {
   "cell_type": "code",
   "execution_count": null,
   "metadata": {},
   "outputs": [],
   "source": []
  }
 ],
 "metadata": {
  "kernelspec": {
   "display_name": "Python 3",
   "language": "python",
   "name": "python3"
  },
  "language_info": {
   "codemirror_mode": {
    "name": "ipython",
    "version": 3
   },
   "file_extension": ".py",
   "mimetype": "text/x-python",
   "name": "python",
   "nbconvert_exporter": "python",
   "pygments_lexer": "ipython3",
   "version": "3.8.5"
  }
 },
 "nbformat": 4,
 "nbformat_minor": 4
}
